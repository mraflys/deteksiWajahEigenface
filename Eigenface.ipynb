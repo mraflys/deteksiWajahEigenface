{
 "cells": [
  {
   "cell_type": "code",
   "execution_count": 101,
   "metadata": {},
   "outputs": [],
   "source": [
    "import os, glob\n",
    "from sklearn import preprocessing\n",
    "import cv2\n",
    "import numpy as np\n",
    "import matplotlib.pyplot as plt\n",
    "import math"
   ]
  },
  {
   "cell_type": "code",
   "execution_count": 102,
   "metadata": {},
   "outputs": [],
   "source": [
    "dataset_path = os.getcwd() + '/orl_faces/' #path to the dataset\n",
    "namefile = cv2.data.haarcascades + 'haarcascade_frontalface_alt2.xml'\n"
   ]
  },
  {
   "cell_type": "code",
   "execution_count": 61,
   "metadata": {},
   "outputs": [
    {
     "name": "stdout",
     "output_type": "stream",
     "text": [
      "e:\\skripsi\\pake - Face-Recognition-Eigenface-Scratch-master/testing/diperkecil\\s5\\2.jpg\n",
      "e:\\skripsi\\pake - Face-Recognition-Eigenface-Scratch-master/testing/diperkecil\\s5\\4.jpg\n",
      "e:\\skripsi\\pake - Face-Recognition-Eigenface-Scratch-master/testing/diperkecil\\s5\\WhatsApp Image 2022-07-22 at 05.31.59.jpeg\n"
     ]
    }
   ],
   "source": [
    "folderdata  = os.getcwd() + '/testing/diperkecil/'\n",
    "for folder in glob.glob(folderdata + '/*'):\n",
    "    for image in glob.glob(folder + '/*'):\n",
    "        print(image)\n",
    "        imgcropt  = cv2.imread(image)\n",
    "        graycropt  = cv2.cvtColor(imgcropt, cv2.COLOR_BGR2GRAY)\n",
    "        face_cascade = cv2.CascadeClassifier(namefile)\n",
    "        facescropt = face_cascade.detectMultiScale(graycropt , 1.1, 4)\n",
    "\n",
    "        for (x, y, w, h) in facescropt:\n",
    "            cv2.rectangle(imgcropt, (x, y), (x+w, y+h), \n",
    "                        (0, 0, 255), 2)\n",
    "            \n",
    "            facescropt = imgcropt[y:y + h, x:x + w]\n",
    "            cv2.imwrite(image, facescropt)"
   ]
  },
  {
   "cell_type": "code",
   "execution_count": 103,
   "metadata": {},
   "outputs": [],
   "source": [
    "#function to plot the images\n",
    "def plot_portraits(images, titles, h, w, n_row, n_col):\n",
    "    plt.figure(figsize=(2.2 * n_col, 2.2 * n_row))\n",
    "    plt.subplots_adjust(bottom=0, left=.01, right=.99, top=.90, hspace=.20)\n",
    "    for i in range(n_row * n_col):\n",
    "        plt.subplot(n_row, n_col, i + 1)\n",
    "        plt.imshow(images[i].reshape((h, w)), cmap=plt.cm.gray)\n",
    "        plt.title(titles[i])\n",
    "        plt.xticks(())\n",
    "        plt.yticks(())\n",
    "        "
   ]
  },
  {
   "cell_type": "code",
   "execution_count": 104,
   "metadata": {},
   "outputs": [
    {
     "name": "stdout",
     "output_type": "stream",
     "text": [
      "4\n"
     ]
    }
   ],
   "source": [
    "#to get the total number of images\n",
    "total_images = 0\n",
    "shape = None\n",
    "for images in glob.glob(dataset_path + '/**', recursive=True):\n",
    "    if images[-3:] == 'pgm' or images[-3:] == 'jpg':\n",
    "        total_images += 1\n",
    "\n",
    "print(total_images)"
   ]
  },
  {
   "cell_type": "code",
   "execution_count": 121,
   "metadata": {},
   "outputs": [
    {
     "name": "stdout",
     "output_type": "stream",
     "text": [
      "[[ 37 100  68]\n",
      " [144 163 145]\n",
      " [107  93 112]]\n",
      "[[169 120  51]\n",
      " [192 139  77]\n",
      " [150  74 144]]\n",
      "[[ 98 183  54]\n",
      " [143 211 170]\n",
      " [124 120 126]]\n",
      "[[ 25  93 129]\n",
      " [ 99 135 142]\n",
      " [ 42 103 124]]\n"
     ]
    },
    {
     "data": {
      "image/png": "[encoded data removed]",
      "text/plain": [
       "<Figure size 633.6x158.4 with 4 Axes>"
      ]
     },
     "metadata": {},
     "output_type": "display_data"
    }
   ],
   "source": [
    "shape = (3,3) #size of the images (112,92)\n",
    "all_images = np.zeros((total_images, shape[0], shape[1]) ,dtype='float64') #initialize the numpy array\n",
    "names = list()\n",
    "i = 0\n",
    "for folder in glob.glob(dataset_path + '/*'): #iterate through all the class\n",
    "    for _ in range(1): #makes 10 copy of each class name in the list (since we have 10 images in each class)\n",
    "        names.append(folder[-3:].replace('/', '')) #list for the classes of the faces\n",
    "    for image in glob.glob(folder + '/*'): #iterate through each folder (class)\n",
    "        read_image = cv2.imread(image, cv2.IMREAD_GRAYSCALE) #read the image in grayscale\n",
    "        resized_image = cv2.resize(read_image, (shape[1], shape[0])) #cv2.resize resizes an image into (# column x # height)\n",
    "        all_images[i] = np.array(resized_image)\n",
    "        i += 1\n",
    "        print(resized_image)       \n",
    "        \n",
    "\n",
    "plot_portraits(all_images, names, 3,3, 1, 4) #plot 20 of the images"
   ]
  },
  {
   "cell_type": "code",
   "execution_count": 106,
   "metadata": {},
   "outputs": [
    {
     "name": "stdout",
     "output_type": "stream",
     "text": [
      "[[-45.25 -24.    -7.5   -0.5    1.    11.5    1.25  -4.5  -14.5 ]\n",
      " [ 86.75  -4.   -24.5   47.5  -23.   -56.5   44.25 -23.5   17.5 ]\n",
      " [ 15.75  59.   -21.5   -1.5   49.    36.5   18.25  22.5   -0.5 ]\n",
      " [-57.25 -31.    53.5  -45.5  -27.     8.5  -63.75   5.5   -2.5 ]]\n"
     ]
    },
    {
     "data": {
      "image/png": "[encoded data removed]",
      "text/plain": [
       "<Figure size 432x288 with 1 Axes>"
      ]
     },
     "metadata": {
      "needs_background": "light"
     },
     "output_type": "display_data"
    }
   ],
   "source": [
    "A = np.resize(all_images, (total_images, shape[0]*shape[1])) #convert the images into vectors. Each row has an image vector. i.e. samples x image_vector matrix\n",
    "np.set_printoptions(threshold=np.inf)\n",
    "\n",
    "mean_vector = np.sum(A, axis=0, dtype='float64')/total_images #calculate the mean vector\n",
    "mean_matrix = np.tile(mean_vector, (total_images, 1)) #make a 400 copy of the same vector. 400 x image_vector_size matrix.\n",
    "A_tilde = A - mean_matrix #mean-subtracted image vectors\n",
    "print(A_tilde)\n",
    "plt.imshow(np.resize(mean_vector, (shape[0],shape[1])), cmap='gray') #show the mean image vector\n",
    "plt.title('Mean Image')\n",
    "plt.show()\n"
   ]
  },
  {
   "cell_type": "code",
   "execution_count": 107,
   "metadata": {},
   "outputs": [
    {
     "data": {
      "image/png": "[encoded data removed]",
      "text/plain": [
       "<Figure size 633.6x158.4 with 4 Axes>"
      ]
     },
     "metadata": {},
     "output_type": "display_data"
    }
   ],
   "source": [
    "plot_portraits(A_tilde, names, 3,3, 1, 4) # matrix A_tilde that contains vectors of each mean subtracted img"
   ]
  },
  {
   "cell_type": "code",
   "execution_count": 108,
   "metadata": {},
   "outputs": [
    {
     "name": "stdout",
     "output_type": "stream",
     "text": [
      "[7.10251081e+03 7.81131022e-14 6.34619465e+02 2.96799473e+03]\n",
      "[[-0.21003611  0.5         0.84015753  0.00449064]\n",
      " [ 0.70313222  0.5        -0.12440214  0.49002978]\n",
      " [ 0.16571279  0.5        -0.25179623 -0.8118731 ]\n",
      " [-0.65880891  0.5        -0.46395915  0.31735268]]\n"
     ]
    }
   ],
   "source": [
    "L = (A_tilde.dot(A_tilde.T))/total_images #since each row is an image vector (unlike in the notes, L = (A_tilde)(A_tilde.T) instead of L = (A_tilde.T)(A_tilde)\n",
    "\n",
    "# print(L)\n",
    "eigenvalues, eigenvectors = np.linalg.eig(L) #find the eigenvalues and the eigenvectors of L\n",
    "print(eigenvalues)\n",
    "print(eigenvectors)\n",
    "idx = eigenvalues.argsort()[::-1] #get the indices of the eigenvalues by its value. Descending order.\n",
    "\n",
    "eigenvalues = eigenvalues[idx] \n",
    "\n",
    "eigenvectors = eigenvectors[:, idx] #sorted eigenvalues and eigenvectors in descending order\n"
   ]
  },
  {
   "cell_type": "code",
   "execution_count": 109,
   "metadata": {},
   "outputs": [
    {
     "data": {
      "text/plain": [
       "(9, 4)"
      ]
     },
     "execution_count": 109,
     "metadata": {},
     "output_type": "execute_result"
    }
   ],
   "source": [
    "\n",
    "eigenvectors_C = A_tilde.T @ eigenvectors #linear combination of each column of A_tilde\n",
    "eigenvectors_C.shape #each column is an eigenvector of C where C = (A_tilde.T)(A_tilde). NOTE : in the notes, C = (A_tilde)(A_tilde.T)\n"
   ]
  },
  {
   "cell_type": "code",
   "execution_count": 110,
   "metadata": {},
   "outputs": [
    {
     "name": "stdout",
     "output_type": "stream",
     "text": [
      "[[ 0.65752481  0.19239354 -0.3231069   0.37514084  0.05651458 -0.24736312\n",
      "   0.45015204 -0.09180125  0.10035137]\n",
      " [ 0.1041812  -0.54889045  0.2055297   0.09225918 -0.54714811 -0.50084073\n",
      "  -0.12260148 -0.25750707  0.07455089]\n",
      " [-0.52027434 -0.39972396 -0.44978238  0.30086661  0.07721384  0.07058523\n",
      "   0.40742693 -0.18010824 -0.25948128]\n",
      " [-0.65013521 -0.64487558  0.12668832 -0.07546416 -0.26801212 -0.03704604\n",
      "  -0.11731247 -0.16602116 -0.15870342]]\n",
      "(4, 9)\n"
     ]
    }
   ],
   "source": [
    "#normalize the eigenvectors\n",
    "eigenfaces = preprocessing.normalize(eigenvectors_C.T) #normalize only accepts matrix with n_samples, n_feature. Hence the transpose.\n",
    "print(eigenfaces)\n",
    "eigenfaces.shape\n",
    "print(eigenfaces.shape)"
   ]
  },
  {
   "cell_type": "code",
   "execution_count": 111,
   "metadata": {},
   "outputs": [
    {
     "name": "stdout",
     "output_type": "stream",
     "text": [
      "[0, 1, 2, 3]\n"
     ]
    },
    {
     "data": {
      "image/png": "[encoded data removed]",
      "text/plain": [
       "<Figure size 633.6x158.4 with 4 Axes>"
      ]
     },
     "metadata": {},
     "output_type": "display_data"
    }
   ],
   "source": [
    "#to visualize some of the eigenfaces\n",
    "eigenface_labels = [x for x in range(eigenfaces.shape[0])] #list containing values from 1 to number of eigenfaces\n",
    "print(eigenface_labels)\n",
    "plot_portraits(eigenfaces, eigenface_labels , 3,3, 1, 4) "
   ]
  },
  {
   "cell_type": "code",
   "execution_count": 112,
   "metadata": {},
   "outputs": [
    {
     "data": {
      "image/png": "[encoded data removed]",
      "text/plain": [
       "<Figure size 432x288 with 1 Axes>"
      ]
     },
     "metadata": {
      "needs_background": "light"
     },
     "output_type": "display_data"
    }
   ],
   "source": [
    "test_img = cv2.imread('absent/Absent_b2612752-4428-483d-b09b-2612bca42dcc2207202255.jpg', cv2.IMREAD_GRAYSCALE) #testing image\n",
    "test_img = cv2.resize(test_img, (shape[1],shape[0])) #resize the testing image. cv2 resize by width and height.\n",
    "mean_subracted_testimg = np.reshape(test_img, (test_img.shape[0]*test_img.shape[1])) - mean_vector #subtract the mean\n",
    "plt.imshow(np.reshape(mean_subracted_testimg, (3,3)), cmap='gray')\n",
    "plt.title(\"Mean Subtracted Test Image\")\n",
    "plt.show()"
   ]
  },
  {
   "cell_type": "code",
   "execution_count": 113,
   "metadata": {},
   "outputs": [
    {
     "data": {
      "text/plain": [
       "(4,)"
      ]
     },
     "execution_count": 113,
     "metadata": {},
     "output_type": "execute_result"
    }
   ],
   "source": [
    "q = 350 #number of chosen eigenfaces\n",
    "omega = eigenfaces[:q].dot(mean_subracted_testimg) #the vector that represents the image with respect to the eigenfaces.\n",
    "omega.shape\n"
   ]
  },
  {
   "cell_type": "code",
   "execution_count": 114,
   "metadata": {},
   "outputs": [
    {
     "name": "stdout",
     "output_type": "stream",
     "text": [
      "[ 10.17428052  78.47330837 -25.38979841  -7.28611953  65.41991243\n",
      "  53.21281398  15.64886276  32.37299793  -2.5331153 ]\n"
     ]
    },
    {
     "data": {
      "image/png": "[encoded data removed]",
      "text/plain": [
       "<Figure size 432x288 with 1 Axes>"
      ]
     },
     "metadata": {
      "needs_background": "light"
     },
     "output_type": "display_data"
    }
   ],
   "source": [
    "#To visualize the reconstruction\n",
    "reconstructed = eigenfaces[:q].T.dot(omega) #image reconstructed using q eigenfaces.\n",
    "reconstructed.shape\n",
    "print(reconstructed)\n",
    "plt.imshow(np.reshape(reconstructed, (shape[0],shape[1])), cmap='gray')\n",
    "plt.title(\"Reconstructed image - \"+str(q)+\" eigenfaces\")\n",
    "plt.show()"
   ]
  },
  {
   "cell_type": "code",
   "execution_count": 115,
   "metadata": {},
   "outputs": [
    {
     "name": "stdout",
     "output_type": "stream",
     "text": [
      "56.608460536576175\n",
      "Face detected in the image!  56.608460536576175\n"
     ]
    }
   ],
   "source": [
    "alpha_1 = 3000 #chosen threshold for face detection\n",
    "\n",
    "projected_new_img_vector = eigenfaces[:q].T @ omega #n^2 vector of the new face image represented as the linear combination of the chosen eigenfaces\n",
    "\n",
    "diff = mean_subracted_testimg - projected_new_img_vector \n",
    "beta = math.sqrt(diff.dot(diff)) #distance between the original face image vector and the projected vector.\n",
    "print(beta)\n",
    "if beta < alpha_1:\n",
    "    print(\"Face detected in the image! \", beta)\n",
    "else:\n",
    "    print(\"No face detected in the image! \", beta)"
   ]
  },
  {
   "cell_type": "code",
   "execution_count": 122,
   "metadata": {},
   "outputs": [
    {
     "name": "stdout",
     "output_type": "stream",
     "text": [
      "141.27026316883652   0\n",
      "198.29456602814494   1\n",
      "49.6760049805708   2\n",
      "211.369458468104   3\n",
      "['\\\\s0', '\\\\s3', '\\\\s4', '\\\\s9']\n",
      "49.6760049805708 \\s4\n"
     ]
    }
   ],
   "source": [
    "alpha_2 = 3000 #chosen threshold for face recognition\n",
    "smallest_value = None #to keep track of the smallest value\n",
    "index = None #to keep track of the class that produces the smallest value\n",
    "for k in range(total_images):\n",
    "    omega_k = eigenfaces[:q].dot(A_tilde[k]) #calculate the vectors of the images in the dataset and represent\n",
    "    diff = omega - omega_k\n",
    "    epsilon_k = math.sqrt(diff.dot(diff))\n",
    "    print(math.sqrt(diff.dot(diff)),\" \",k)\n",
    "    if smallest_value == None:\n",
    "        smallest_value = epsilon_k\n",
    "        index = k\n",
    "    if smallest_value > epsilon_k:\n",
    "        smallest_value = epsilon_k\n",
    "        index = k\n",
    "        # presentage = (epsilon_k/math.sqrt(omega.dot(omega)))*100\n",
    "        # print(epsilon_k)  \n",
    "        # print(math.sqrt(omega.dot(omega)))\n",
    "\n",
    "# omega_test_img = math.sqrt(mean_vector.dot(mean_vector))\n",
    "# print(presentage)\n",
    "# presentage = (1-(smallest_value/omega_test_img))*100\n",
    "# print(abs(presentage))\n",
    "print(names)\n",
    "if smallest_value < alpha_2:\n",
    "    print(smallest_value, names[index])\n",
    "else:\n",
    "    print(smallest_value, \"Unknown Face!\")"
   ]
  }
 ],
 "metadata": {
  "kernelspec": {
   "display_name": "Python 3.9.0 64-bit",
   "language": "python",
   "name": "python3"
  },
  "language_info": {
   "codemirror_mode": {
    "name": "ipython",
    "version": 3
   },
   "file_extension": ".py",
   "mimetype": "text/x-python",
   "name": "python",
   "nbconvert_exporter": "python",
   "pygments_lexer": "ipython3",
   "version": "3.9.0"
  },
  "vscode": {
   "interpreter": {
    "hash": "81794d4967e6c3204c66dcd87b604927b115b27c00565d3d43f05ba2f3a2cb0d"
   }
  }
 },
 "nbformat": 4,
 "nbformat_minor": 2
}
